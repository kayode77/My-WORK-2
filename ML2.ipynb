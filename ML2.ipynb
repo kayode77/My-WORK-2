{
 "cells": [
  {
   "cell_type": "code",
   "execution_count": 1,
   "metadata": {},
   "outputs": [
    {
     "data": {
      "text/html": [
       "<div>\n",
       "<style scoped>\n",
       "    .dataframe tbody tr th:only-of-type {\n",
       "        vertical-align: middle;\n",
       "    }\n",
       "\n",
       "    .dataframe tbody tr th {\n",
       "        vertical-align: top;\n",
       "    }\n",
       "\n",
       "    .dataframe thead th {\n",
       "        text-align: right;\n",
       "    }\n",
       "</style>\n",
       "<table border=\"1\" class=\"dataframe\">\n",
       "  <thead>\n",
       "    <tr style=\"text-align: right;\">\n",
       "      <th></th>\n",
       "      <th>total_bill</th>\n",
       "      <th>tip</th>\n",
       "      <th>sex</th>\n",
       "      <th>smoker</th>\n",
       "      <th>day</th>\n",
       "      <th>time</th>\n",
       "      <th>size</th>\n",
       "    </tr>\n",
       "  </thead>\n",
       "  <tbody>\n",
       "    <tr>\n",
       "      <th>0</th>\n",
       "      <td>16.99</td>\n",
       "      <td>1.01</td>\n",
       "      <td>Female</td>\n",
       "      <td>No</td>\n",
       "      <td>Sun</td>\n",
       "      <td>Dinner</td>\n",
       "      <td>2</td>\n",
       "    </tr>\n",
       "    <tr>\n",
       "      <th>1</th>\n",
       "      <td>10.34</td>\n",
       "      <td>1.66</td>\n",
       "      <td>Male</td>\n",
       "      <td>No</td>\n",
       "      <td>Sun</td>\n",
       "      <td>Dinner</td>\n",
       "      <td>3</td>\n",
       "    </tr>\n",
       "    <tr>\n",
       "      <th>2</th>\n",
       "      <td>21.01</td>\n",
       "      <td>3.50</td>\n",
       "      <td>Male</td>\n",
       "      <td>No</td>\n",
       "      <td>Sun</td>\n",
       "      <td>Dinner</td>\n",
       "      <td>3</td>\n",
       "    </tr>\n",
       "    <tr>\n",
       "      <th>3</th>\n",
       "      <td>23.68</td>\n",
       "      <td>3.31</td>\n",
       "      <td>Male</td>\n",
       "      <td>No</td>\n",
       "      <td>Sun</td>\n",
       "      <td>Dinner</td>\n",
       "      <td>2</td>\n",
       "    </tr>\n",
       "    <tr>\n",
       "      <th>4</th>\n",
       "      <td>24.59</td>\n",
       "      <td>3.61</td>\n",
       "      <td>Female</td>\n",
       "      <td>No</td>\n",
       "      <td>Sun</td>\n",
       "      <td>Dinner</td>\n",
       "      <td>4</td>\n",
       "    </tr>\n",
       "  </tbody>\n",
       "</table>\n",
       "</div>"
      ],
      "text/plain": [
       "   total_bill   tip     sex smoker  day    time  size\n",
       "0       16.99  1.01  Female     No  Sun  Dinner     2\n",
       "1       10.34  1.66    Male     No  Sun  Dinner     3\n",
       "2       21.01  3.50    Male     No  Sun  Dinner     3\n",
       "3       23.68  3.31    Male     No  Sun  Dinner     2\n",
       "4       24.59  3.61  Female     No  Sun  Dinner     4"
      ]
     },
     "execution_count": 1,
     "metadata": {},
     "output_type": "execute_result"
    }
   ],
   "source": [
    "import pandas as pd\n",
    "import seaborn as sns\n",
    "Tips = sns.load_dataset('tips')\n",
    "Tips.head()"
   ]
  },
  {
   "cell_type": "code",
   "execution_count": 2,
   "metadata": {},
   "outputs": [
    {
     "data": {
      "text/html": [
       "<div>\n",
       "<style scoped>\n",
       "    .dataframe tbody tr th:only-of-type {\n",
       "        vertical-align: middle;\n",
       "    }\n",
       "\n",
       "    .dataframe tbody tr th {\n",
       "        vertical-align: top;\n",
       "    }\n",
       "\n",
       "    .dataframe thead th {\n",
       "        text-align: right;\n",
       "    }\n",
       "</style>\n",
       "<table border=\"1\" class=\"dataframe\">\n",
       "  <thead>\n",
       "    <tr style=\"text-align: right;\">\n",
       "      <th></th>\n",
       "      <th>total_bill</th>\n",
       "      <th>tip</th>\n",
       "      <th>size</th>\n",
       "    </tr>\n",
       "  </thead>\n",
       "  <tbody>\n",
       "    <tr>\n",
       "      <th>total_bill</th>\n",
       "      <td>1.000000</td>\n",
       "      <td>0.675734</td>\n",
       "      <td>0.598315</td>\n",
       "    </tr>\n",
       "    <tr>\n",
       "      <th>tip</th>\n",
       "      <td>0.675734</td>\n",
       "      <td>1.000000</td>\n",
       "      <td>0.489299</td>\n",
       "    </tr>\n",
       "    <tr>\n",
       "      <th>size</th>\n",
       "      <td>0.598315</td>\n",
       "      <td>0.489299</td>\n",
       "      <td>1.000000</td>\n",
       "    </tr>\n",
       "  </tbody>\n",
       "</table>\n",
       "</div>"
      ],
      "text/plain": [
       "            total_bill       tip      size\n",
       "total_bill    1.000000  0.675734  0.598315\n",
       "tip           0.675734  1.000000  0.489299\n",
       "size          0.598315  0.489299  1.000000"
      ]
     },
     "execution_count": 2,
     "metadata": {},
     "output_type": "execute_result"
    }
   ],
   "source": [
    "# correlation matrix\n",
    "cor=Tips.corr()\n",
    "cor"
   ]
  },
  {
   "cell_type": "code",
   "execution_count": 3,
   "metadata": {},
   "outputs": [
    {
     "data": {
      "text/plain": [
       "<matplotlib.axes._subplots.AxesSubplot at 0x8065b817f0>"
      ]
     },
     "execution_count": 3,
     "metadata": {},
     "output_type": "execute_result"
    },
    {
     "data": {
      "image/png": "[encoded data removed]",
      "text/plain": [
       "<Figure size 720x432 with 2 Axes>"
      ]
     },
     "metadata": {
      "needs_background": "light"
     },
     "output_type": "display_data"
    }
   ],
   "source": [
    "import matplotlib.pyplot as plt\n",
    "plt.style.use('classic')\n",
    "%matplotlib inline\n",
    "# plotting Heatmap\n",
    "plt.figure(figsize=(10,6))\n",
    "sns.heatmap(cor,annot=True)"
   ]
  },
  {
   "cell_type": "code",
   "execution_count": 4,
   "metadata": {},
   "outputs": [
    {
     "name": "stdout",
     "output_type": "stream",
     "text": [
      "<class 'pandas.core.frame.DataFrame'>\n",
      "RangeIndex: 244 entries, 0 to 243\n",
      "Data columns (total 7 columns):\n",
      " #   Column      Non-Null Count  Dtype   \n",
      "---  ------      --------------  -----   \n",
      " 0   total_bill  244 non-null    float64 \n",
      " 1   tip         244 non-null    float64 \n",
      " 2   sex         244 non-null    category\n",
      " 3   smoker      244 non-null    category\n",
      " 4   day         244 non-null    category\n",
      " 5   time        244 non-null    category\n",
      " 6   size        244 non-null    int64   \n",
      "dtypes: category(4), float64(2), int64(1)\n",
      "memory usage: 7.3 KB\n"
     ]
    }
   ],
   "source": [
    "Tips.info()"
   ]
  },
  {
   "cell_type": "code",
   "execution_count": 5,
   "metadata": {},
   "outputs": [
    {
     "data": {
      "text/html": [
       "<div>\n",
       "<style scoped>\n",
       "    .dataframe tbody tr th:only-of-type {\n",
       "        vertical-align: middle;\n",
       "    }\n",
       "\n",
       "    .dataframe tbody tr th {\n",
       "        vertical-align: top;\n",
       "    }\n",
       "\n",
       "    .dataframe thead th {\n",
       "        text-align: right;\n",
       "    }\n",
       "</style>\n",
       "<table border=\"1\" class=\"dataframe\">\n",
       "  <thead>\n",
       "    <tr style=\"text-align: right;\">\n",
       "      <th></th>\n",
       "      <th>total_bill</th>\n",
       "      <th>tip</th>\n",
       "      <th>size</th>\n",
       "    </tr>\n",
       "  </thead>\n",
       "  <tbody>\n",
       "    <tr>\n",
       "      <th>count</th>\n",
       "      <td>244.000000</td>\n",
       "      <td>244.000000</td>\n",
       "      <td>244.000000</td>\n",
       "    </tr>\n",
       "    <tr>\n",
       "      <th>mean</th>\n",
       "      <td>19.785943</td>\n",
       "      <td>2.998279</td>\n",
       "      <td>2.569672</td>\n",
       "    </tr>\n",
       "    <tr>\n",
       "      <th>std</th>\n",
       "      <td>8.902412</td>\n",
       "      <td>1.383638</td>\n",
       "      <td>0.951100</td>\n",
       "    </tr>\n",
       "    <tr>\n",
       "      <th>min</th>\n",
       "      <td>3.070000</td>\n",
       "      <td>1.000000</td>\n",
       "      <td>1.000000</td>\n",
       "    </tr>\n",
       "    <tr>\n",
       "      <th>25%</th>\n",
       "      <td>13.347500</td>\n",
       "      <td>2.000000</td>\n",
       "      <td>2.000000</td>\n",
       "    </tr>\n",
       "    <tr>\n",
       "      <th>50%</th>\n",
       "      <td>17.795000</td>\n",
       "      <td>2.900000</td>\n",
       "      <td>2.000000</td>\n",
       "    </tr>\n",
       "    <tr>\n",
       "      <th>75%</th>\n",
       "      <td>24.127500</td>\n",
       "      <td>3.562500</td>\n",
       "      <td>3.000000</td>\n",
       "    </tr>\n",
       "    <tr>\n",
       "      <th>max</th>\n",
       "      <td>50.810000</td>\n",
       "      <td>10.000000</td>\n",
       "      <td>6.000000</td>\n",
       "    </tr>\n",
       "  </tbody>\n",
       "</table>\n",
       "</div>"
      ],
      "text/plain": [
       "       total_bill         tip        size\n",
       "count  244.000000  244.000000  244.000000\n",
       "mean    19.785943    2.998279    2.569672\n",
       "std      8.902412    1.383638    0.951100\n",
       "min      3.070000    1.000000    1.000000\n",
       "25%     13.347500    2.000000    2.000000\n",
       "50%     17.795000    2.900000    2.000000\n",
       "75%     24.127500    3.562500    3.000000\n",
       "max     50.810000   10.000000    6.000000"
      ]
     },
     "execution_count": 5,
     "metadata": {},
     "output_type": "execute_result"
    }
   ],
   "source": [
    "Tips.describe()"
   ]
  },
  {
   "cell_type": "code",
   "execution_count": 6,
   "metadata": {},
   "outputs": [
    {
     "data": {
      "text/plain": [
       "total_bill    1.133213\n",
       "tip           1.465451\n",
       "size          1.447882\n",
       "dtype: float64"
      ]
     },
     "execution_count": 6,
     "metadata": {},
     "output_type": "execute_result"
    }
   ],
   "source": [
    "# Skewness\n",
    "Tips.skew()"
   ]
  },
  {
   "cell_type": "code",
   "execution_count": 7,
   "metadata": {},
   "outputs": [
    {
     "name": "stderr",
     "output_type": "stream",
     "text": [
      "c:\\users\\victoria\\appdata\\local\\programs\\python\\python37\\lib\\site-packages\\pandas\\plotting\\_matplotlib\\tools.py:298: MatplotlibDeprecationWarning: \n",
      "The rowNum attribute was deprecated in Matplotlib 3.2 and will be removed two minor releases later. Use ax.get_subplotspec().rowspan.start instead.\n",
      "  layout[ax.rowNum, ax.colNum] = ax.get_visible()\n",
      "c:\\users\\victoria\\appdata\\local\\programs\\python\\python37\\lib\\site-packages\\pandas\\plotting\\_matplotlib\\tools.py:298: MatplotlibDeprecationWarning: \n",
      "The colNum attribute was deprecated in Matplotlib 3.2 and will be removed two minor releases later. Use ax.get_subplotspec().colspan.start instead.\n",
      "  layout[ax.rowNum, ax.colNum] = ax.get_visible()\n",
      "c:\\users\\victoria\\appdata\\local\\programs\\python\\python37\\lib\\site-packages\\pandas\\plotting\\_matplotlib\\tools.py:304: MatplotlibDeprecationWarning: \n",
      "The rowNum attribute was deprecated in Matplotlib 3.2 and will be removed two minor releases later. Use ax.get_subplotspec().rowspan.start instead.\n",
      "  if not layout[ax.rowNum + 1, ax.colNum]:\n",
      "c:\\users\\victoria\\appdata\\local\\programs\\python\\python37\\lib\\site-packages\\pandas\\plotting\\_matplotlib\\tools.py:304: MatplotlibDeprecationWarning: \n",
      "The colNum attribute was deprecated in Matplotlib 3.2 and will be removed two minor releases later. Use ax.get_subplotspec().colspan.start instead.\n",
      "  if not layout[ax.rowNum + 1, ax.colNum]:\n"
     ]
    },
    {
     "data": {
      "text/plain": [
       "array([[<matplotlib.axes._subplots.AxesSubplot object at 0x000000806F07B3C8>,\n",
       "        <matplotlib.axes._subplots.AxesSubplot object at 0x000000806F0AC630>],\n",
       "       [<matplotlib.axes._subplots.AxesSubplot object at 0x000000806F0E1898>,\n",
       "        <matplotlib.axes._subplots.AxesSubplot object at 0x000000806F114B00>]],\n",
       "      dtype=object)"
      ]
     },
     "execution_count": 7,
     "metadata": {},
     "output_type": "execute_result"
    },
    {
     "data": {
      "image/png": "[encoded data removed]",
      "text/plain": [
       "<Figure size 432x288 with 4 Axes>"
      ]
     },
     "metadata": {
      "needs_background": "light"
     },
     "output_type": "display_data"
    }
   ],
   "source": [
    "Tips.hist()"
   ]
  },
  {
   "cell_type": "code",
   "execution_count": 3,
   "metadata": {},
   "outputs": [],
   "source": [
    "X = Tips.iloc[:, [0,1]].values\n",
    "y =Tips.iloc[:, 6].values"
   ]
  },
  {
   "cell_type": "code",
   "execution_count": 4,
   "metadata": {},
   "outputs": [
    {
     "name": "stdout",
     "output_type": "stream",
     "text": [
      "[0.62068738 0.37931262]\n"
     ]
    }
   ],
   "source": [
    "from sklearn.ensemble import ExtraTreesClassifier\n",
    "model = ExtraTreesClassifier()\n",
    "model.fit(X, y)\n",
    "print(model.feature_importances_)"
   ]
  },
  {
   "cell_type": "code",
   "execution_count": 16,
   "metadata": {},
   "outputs": [
    {
     "name": "stdout",
     "output_type": "stream",
     "text": [
      "total_bill 0.621379543844299\n",
      "tip 0.37862045615570095\n"
     ]
    }
   ],
   "source": [
    "#Feature Importance  of tips dataset for time\n",
    "from sklearn.ensemble import RandomForestClassifier\n",
    "rnd_clf = RandomForestClassifier(n_estimators=500, n_jobs=-1)\n",
    "X = Tips.iloc[:, [0,1]].values\n",
    "y =Tips.iloc[:, 5].values\n",
    "a=rnd_clf.fit(X, y)\n",
    "for name, score in zip(Tips[['total_bill','tip']], rnd_clf.feature_importances_):\n",
    "    print(name, score)"
   ]
  },
  {
   "cell_type": "code",
   "execution_count": 17,
   "metadata": {},
   "outputs": [
    {
     "name": "stdout",
     "output_type": "stream",
     "text": [
      "total_bill 0.6031853089561624\n",
      "tip 0.39681469104383765\n"
     ]
    }
   ],
   "source": [
    "#Feature Importance  of tips dataset for sex\n",
    "rnd_clf = RandomForestClassifier(n_estimators=500, n_jobs=-1)\n",
    "X = Tips.iloc[:, [0,1]].values\n",
    "y =Tips.iloc[:, 2].values\n",
    "a=rnd_clf.fit(X, y)\n",
    "for name, score in zip(Tips[['total_bill','tip']], rnd_clf.feature_importances_):\n",
    "    print(name, score)"
   ]
  },
  {
   "cell_type": "code",
   "execution_count": 13,
   "metadata": {},
   "outputs": [
    {
     "name": "stdout",
     "output_type": "stream",
     "text": [
      "total_bill 0.6107687390670608\n",
      "tip 0.3892312609329392\n"
     ]
    }
   ],
   "source": [
    "#Feature Importance  of tips dataset for Smoker\n",
    "rnd_clf = RandomForestClassifier(n_estimators=500, n_jobs=-1)\n",
    "X = Tips.iloc[:, [0,1]].values\n",
    "y =Tips.iloc[:, 3].values\n",
    "a=rnd_clf.fit(X, y)\n",
    "for name, score in zip(Tips[['total_bill','tip']], rnd_clf.feature_importances_):\n",
    "    print(name, score)"
   ]
  },
  {
   "cell_type": "code",
   "execution_count": 18,
   "metadata": {},
   "outputs": [
    {
     "name": "stdout",
     "output_type": "stream",
     "text": [
      "total_bill 0.5884821776610758\n",
      "tip 0.41151782233892414\n"
     ]
    }
   ],
   "source": [
    "#Feature Importance  of tips dataset for day\n",
    "rnd_clf = RandomForestClassifier(n_estimators=500, n_jobs=-1)\n",
    "X = Tips.iloc[:, [0,1]].values\n",
    "y =Tips.iloc[:, 4].values\n",
    "a=rnd_clf.fit(X, y)\n",
    "for name, score in zip(Tips[['total_bill','tip']], rnd_clf.feature_importances_):\n",
    "    print(name, score)"
   ]
  },
  {
   "cell_type": "code",
   "execution_count": 20,
   "metadata": {},
   "outputs": [],
   "source": [
    "X = Tips.iloc[:, [0,1]].values\n",
    "y =Tips.iloc[:, 6].values\n",
    "from sklearn.model_selection import train_test_split \n",
    "X_train, X_test, y_train, y_test = train_test_split(X, y, test_size=0.30)\n",
    "from sklearn.preprocessing import StandardScaler \n",
    "scaler = StandardScaler() \n",
    "scaler.fit(X_train) \n",
    "X_train = scaler.transform(X_train) \n",
    "X_test = scaler.transform(X_test)"
   ]
  },
  {
   "cell_type": "code",
   "execution_count": 21,
   "metadata": {},
   "outputs": [
    {
     "name": "stdout",
     "output_type": "stream",
     "text": [
      "(170, 2)\n",
      "(74, 2)\n"
     ]
    }
   ],
   "source": [
    "print(X_train.shape) \n",
    "print(X_test.shape) "
   ]
  },
  {
   "cell_type": "code",
   "execution_count": 22,
   "metadata": {},
   "outputs": [
    {
     "name": "stdout",
     "output_type": "stream",
     "text": [
      "(170,)\n",
      "(74,)\n"
     ]
    }
   ],
   "source": [
    "print(y_train.shape) \n",
    "print(y_test.shape) "
   ]
  },
  {
   "cell_type": "markdown",
   "metadata": {},
   "source": [
    "# Regression metrics(RMSE)"
   ]
  },
  {
   "cell_type": "code",
   "execution_count": 51,
   "metadata": {},
   "outputs": [
    {
     "data": {
      "text/plain": [
       "0.7526000157651817"
      ]
     },
     "execution_count": 51,
     "metadata": {},
     "output_type": "execute_result"
    }
   ],
   "source": [
    "from sklearn.linear_model import LinearRegression\n",
    "linreg = LinearRegression()\n",
    "linreg.fit(X, y)\n",
    "pred = linreg.predict(X)\n",
    "lin_mse = mean_squared_error(y, pred)\n",
    "lin_rmse = np.sqrt(lin_mse)\n",
    "lin_rmse"
   ]
  },
  {
   "cell_type": "code",
   "execution_count": 52,
   "metadata": {},
   "outputs": [
    {
     "data": {
      "text/plain": [
       "0.0"
      ]
     },
     "execution_count": 52,
     "metadata": {},
     "output_type": "execute_result"
    }
   ],
   "source": [
    "from sklearn.tree import DecisionTreeRegressor\n",
    "treereg = DecisionTreeRegressor()\n",
    "treereg.fit(X, y)\n",
    "pred1 = treereg.predict(X)\n",
    "treereg_mse = mean_squared_error(y, pred1)\n",
    "treereg_rmse = np.sqrt(treereg_mse)\n",
    "treereg_rmse"
   ]
  },
  {
   "cell_type": "code",
   "execution_count": 53,
   "metadata": {},
   "outputs": [
    {
     "data": {
      "text/plain": [
       "0.6568678785235776"
      ]
     },
     "execution_count": 53,
     "metadata": {},
     "output_type": "execute_result"
    }
   ],
   "source": [
    "from sklearn.neighbors import KNeighborsRegressor\n",
    "Knnreg = KNeighborsRegressor()\n",
    "Knnreg.fit(X, y)\n",
    "pred_1 = Knnreg.predict(X)\n",
    "Knnreg_mse = mean_squared_error(y, pred_1)\n",
    "Knnreg_rmse = np.sqrt(Knnreg_mse)\n",
    "Knnreg_rmse"
   ]
  },
  {
   "cell_type": "code",
   "execution_count": 54,
   "metadata": {},
   "outputs": [
    {
     "data": {
      "text/plain": [
       "0.805045885190318"
      ]
     },
     "execution_count": 54,
     "metadata": {},
     "output_type": "execute_result"
    }
   ],
   "source": [
    "from sklearn.svm import SVR\n",
    "svm_poly_reg = SVR(kernel=\"poly\", degree=2, C=100, epsilon=0.1)\n",
    "svm_poly_reg.fit(X, y)\n",
    "pred3 = svm_poly_reg.predict(X)\n",
    "SVR_mse = mean_squared_error(y, pred3)\n",
    "SVR_rmse = np.sqrt(SVR_mse)\n",
    "SVR_rmse"
   ]
  },
  {
   "cell_type": "code",
   "execution_count": 55,
   "metadata": {},
   "outputs": [
    {
     "data": {
      "text/plain": [
       "0.7808297314903357"
      ]
     },
     "execution_count": 55,
     "metadata": {},
     "output_type": "execute_result"
    }
   ],
   "source": [
    "from sklearn import svm\n",
    "SVRReg = svm.SVR(kernel='linear', gamma='auto')\n",
    "SVRReg.fit(X, y)\n",
    "pred4= SVRReg.predict(X)\n",
    "SVRReg_mse = mean_squared_error(y, pred4)\n",
    "SVRReg_rmse = np.sqrt(SVRReg_mse)\n",
    "SVRReg_rmse"
   ]
  },
  {
   "cell_type": "code",
   "execution_count": 63,
   "metadata": {},
   "outputs": [
    {
     "data": {
      "text/plain": [
       "0.31438203761310934"
      ]
     },
     "execution_count": 63,
     "metadata": {},
     "output_type": "execute_result"
    }
   ],
   "source": [
    "from sklearn.ensemble import RandomForestRegressor\n",
    "Ranfor = RandomForestRegressor()\n",
    "Ranfor.fit(X,y)\n",
    "pred5 = Ranfor.predict(X)\n",
    "Ran_mse = mean_squared_error(y, pred5)\n",
    "Ran_rmse = np.sqrt(Ran_mse)\n",
    "Ran_rmse"
   ]
  },
  {
   "cell_type": "markdown",
   "metadata": {},
   "source": [
    "# Cross validation"
   ]
  },
  {
   "cell_type": "code",
   "execution_count": 29,
   "metadata": {},
   "outputs": [
    {
     "name": "stdout",
     "output_type": "stream",
     "text": [
      "Scores: [0.68075533 0.71338044 0.58757795 0.72706058 0.58625199 1.04771488\n",
      " 0.98646708 1.01995131 0.62753122 0.62740397]\n",
      "Mean: 0.7604094773343704\n",
      "Standard deviation: 0.17499306479345894\n"
     ]
    }
   ],
   "source": [
    "import numpy as np\n",
    "from sklearn.metrics import mean_squared_error\n",
    "from sklearn.model_selection import cross_val_score\n",
    "scores = cross_val_score(linreg, X,y, scoring=\"neg_mean_squared_error\", cv=10)\n",
    "linreg_scores = np.sqrt(-scores)\n",
    "def display_scores(scores):\n",
    "    print(\"Scores:\", scores)\n",
    "    print(\"Mean:\", scores.mean())\n",
    "    print(\"Standard deviation:\", scores.std())\n",
    "display_scores(linreg_scores)"
   ]
  },
  {
   "cell_type": "code",
   "execution_count": 30,
   "metadata": {},
   "outputs": [
    {
     "name": "stdout",
     "output_type": "stream",
     "text": [
      "Scores: [1.05830052 0.84852814 1.         1.14891253 1.02062073 1.25830574\n",
      " 1.         1.17260394 1.25830574 1.        ]\n",
      "Mean: 1.07655773356964\n",
      "Standard deviation: 0.1239224742519853\n"
     ]
    }
   ],
   "source": [
    "from sklearn.model_selection import cross_val_score\n",
    "scores = cross_val_score(treereg, X,y, scoring=\"neg_mean_squared_error\", cv=10)\n",
    "treereg_scores = np.sqrt(-scores)\n",
    "display_scores(treereg_scores)"
   ]
  },
  {
   "cell_type": "code",
   "execution_count": 31,
   "metadata": {},
   "outputs": [
    {
     "name": "stdout",
     "output_type": "stream",
     "text": [
      "Scores: [0.75259551 0.69742383 0.61188234 0.85790442 0.6544718  0.99163165\n",
      " 0.95131488 1.05908766 0.72686542 0.68799225]\n",
      "Mean: 0.7991169755786499\n",
      "Standard deviation: 0.14741797496245687\n"
     ]
    }
   ],
   "source": [
    "from sklearn.model_selection import cross_val_score\n",
    "scores = cross_val_score(Knnreg, X,y, scoring=\"neg_mean_squared_error\", cv=10)\n",
    "Knnreg_scores = np.sqrt(-scores)\n",
    "display_scores(Knnreg_scores)"
   ]
  },
  {
   "cell_type": "code",
   "execution_count": 60,
   "metadata": {},
   "outputs": [
    {
     "name": "stdout",
     "output_type": "stream",
     "text": [
      "Scores: [2.84253408 2.79284801 2.62297541 2.30651252 2.34520788 3.04822353\n",
      " 3.16885889 2.75378527 2.98607881 2.38921186]\n",
      "Mean: 2.7256236264007856\n",
      "Standard deviation: 0.2883444361739899\n"
     ]
    },
    {
     "name": "stderr",
     "output_type": "stream",
     "text": [
      "c:\\users\\victoria\\appdata\\local\\programs\\python\\python37\\lib\\site-packages\\sklearn\\svm\\_base.py:977: ConvergenceWarning: Liblinear failed to converge, increase the number of iterations.\n",
      "  \"the number of iterations.\", ConvergenceWarning)\n",
      "c:\\users\\victoria\\appdata\\local\\programs\\python\\python37\\lib\\site-packages\\sklearn\\svm\\_base.py:977: ConvergenceWarning: Liblinear failed to converge, increase the number of iterations.\n",
      "  \"the number of iterations.\", ConvergenceWarning)\n",
      "c:\\users\\victoria\\appdata\\local\\programs\\python\\python37\\lib\\site-packages\\sklearn\\svm\\_base.py:977: ConvergenceWarning: Liblinear failed to converge, increase the number of iterations.\n",
      "  \"the number of iterations.\", ConvergenceWarning)\n",
      "c:\\users\\victoria\\appdata\\local\\programs\\python\\python37\\lib\\site-packages\\sklearn\\svm\\_base.py:977: ConvergenceWarning: Liblinear failed to converge, increase the number of iterations.\n",
      "  \"the number of iterations.\", ConvergenceWarning)\n",
      "c:\\users\\victoria\\appdata\\local\\programs\\python\\python37\\lib\\site-packages\\sklearn\\svm\\_base.py:977: ConvergenceWarning: Liblinear failed to converge, increase the number of iterations.\n",
      "  \"the number of iterations.\", ConvergenceWarning)\n",
      "c:\\users\\victoria\\appdata\\local\\programs\\python\\python37\\lib\\site-packages\\sklearn\\svm\\_base.py:977: ConvergenceWarning: Liblinear failed to converge, increase the number of iterations.\n",
      "  \"the number of iterations.\", ConvergenceWarning)\n",
      "c:\\users\\victoria\\appdata\\local\\programs\\python\\python37\\lib\\site-packages\\sklearn\\svm\\_base.py:977: ConvergenceWarning: Liblinear failed to converge, increase the number of iterations.\n",
      "  \"the number of iterations.\", ConvergenceWarning)\n",
      "c:\\users\\victoria\\appdata\\local\\programs\\python\\python37\\lib\\site-packages\\sklearn\\svm\\_base.py:977: ConvergenceWarning: Liblinear failed to converge, increase the number of iterations.\n",
      "  \"the number of iterations.\", ConvergenceWarning)\n",
      "c:\\users\\victoria\\appdata\\local\\programs\\python\\python37\\lib\\site-packages\\sklearn\\svm\\_base.py:977: ConvergenceWarning: Liblinear failed to converge, increase the number of iterations.\n",
      "  \"the number of iterations.\", ConvergenceWarning)\n",
      "c:\\users\\victoria\\appdata\\local\\programs\\python\\python37\\lib\\site-packages\\sklearn\\svm\\_base.py:977: ConvergenceWarning: Liblinear failed to converge, increase the number of iterations.\n",
      "  \"the number of iterations.\", ConvergenceWarning)\n"
     ]
    }
   ],
   "source": [
    "from sklearn.model_selection import cross_val_score\n",
    "scores = cross_val_score(svm_reg, X,y, scoring=\"neg_mean_squared_error\", cv=10)\n",
    "svm_reg_scores = np.sqrt(-scores)\n",
    "display_scores(svm_reg_scores)"
   ]
  },
  {
   "cell_type": "code",
   "execution_count": 61,
   "metadata": {},
   "outputs": [
    {
     "name": "stdout",
     "output_type": "stream",
     "text": [
      "Scores: [0.78844962 0.79580598 0.63883516 0.54504764 0.51981695 1.14691844\n",
      " 1.16202546 1.10227486 0.82750579 0.62066307]\n",
      "Mean: 0.8147342972871214\n",
      "Standard deviation: 0.23305805839025673\n"
     ]
    }
   ],
   "source": [
    "from sklearn.model_selection import cross_val_score\n",
    "scores = cross_val_score(svm_poly_reg, X,y, scoring=\"neg_mean_squared_error\", cv=10)\n",
    "svm_poly_reg_scores = np.sqrt(-scores)\n",
    "display_scores(svm_poly_reg_scores)"
   ]
  },
  {
   "cell_type": "code",
   "execution_count": 62,
   "metadata": {},
   "outputs": [
    {
     "name": "stdout",
     "output_type": "stream",
     "text": [
      "Scores: [0.757111   0.76236665 0.60460061 0.60180485 0.51100556 1.13954427\n",
      " 1.05308072 1.00614902 0.76880286 0.61250791]\n",
      "Mean: 0.7816973456553149\n",
      "Standard deviation: 0.20465825627014758\n"
     ]
    }
   ],
   "source": [
    "from sklearn.model_selection import cross_val_score\n",
    "scores = cross_val_score(SVRReg, X,y, scoring=\"neg_mean_squared_error\", cv=10)\n",
    "SVRReg_scores = np.sqrt(-scores)\n",
    "display_scores(SVRReg_scores)"
   ]
  },
  {
   "cell_type": "code",
   "execution_count": 65,
   "metadata": {},
   "outputs": [
    {
     "name": "stdout",
     "output_type": "stream",
     "text": [
      "Scores: [0.76955572 0.73047656 0.83585405 0.81662231 0.70241251 0.99607772\n",
      " 0.91648786 1.1055617  0.90438976 0.81710872]\n",
      "Mean: 0.8594546912676678\n",
      "Standard deviation: 0.11750347650742492\n"
     ]
    }
   ],
   "source": [
    "from sklearn.model_selection import cross_val_score\n",
    "scores = cross_val_score(Ranfor, X,y, scoring=\"neg_mean_squared_error\", cv=10)\n",
    "Ranfor_scores = np.sqrt(-scores)\n",
    "display_scores(Ranfor_scores)"
   ]
  },
  {
   "cell_type": "code",
   "execution_count": 35,
   "metadata": {},
   "outputs": [
    {
     "data": {
      "text/plain": [
       "0.7841523049838994"
      ]
     },
     "execution_count": 35,
     "metadata": {},
     "output_type": "execute_result"
    }
   ],
   "source": [
    "from sklearn.linear_model import LinearRegression\n",
    "linreg = LinearRegression()\n",
    "linreg.fit(X_train, y_train)\n",
    "pred = linreg.predict(X_test)\n",
    "lin_mse = mean_squared_error(y_test,pred)\n",
    "lin_rmse = np.sqrt(lin_mse)\n",
    "lin_rmse"
   ]
  },
  {
   "cell_type": "code",
   "execution_count": 56,
   "metadata": {},
   "outputs": [
    {
     "data": {
      "text/plain": [
       "1.2734290799340267"
      ]
     },
     "execution_count": 56,
     "metadata": {},
     "output_type": "execute_result"
    }
   ],
   "source": [
    "from sklearn.tree import DecisionTreeRegressor\n",
    "treereg = DecisionTreeRegressor()\n",
    "treereg.fit(X_train, y_train)\n",
    "pred1 = treereg.predict(X_test)\n",
    "treereg_mse = mean_squared_error(y_test, pred1)\n",
    "treereg_rmse = np.sqrt(treereg_mse)\n",
    "treereg_rmse"
   ]
  },
  {
   "cell_type": "code",
   "execution_count": 57,
   "metadata": {},
   "outputs": [
    {
     "data": {
      "text/plain": [
       "0.8614883412804623"
      ]
     },
     "execution_count": 57,
     "metadata": {},
     "output_type": "execute_result"
    }
   ],
   "source": [
    "from sklearn.neighbors import KNeighborsRegressor\n",
    "Knnreg = KNeighborsRegressor()\n",
    "Knnreg.fit(X_train, y_train)\n",
    "pred_1 = Knnreg.predict(X_test)\n",
    "Knnreg_mse = mean_squared_error(y_test, pred_1)\n",
    "Knnreg_rmse = np.sqrt(Knnreg_mse)\n",
    "Knnreg_rmse"
   ]
  },
  {
   "cell_type": "code",
   "execution_count": 58,
   "metadata": {},
   "outputs": [
    {
     "data": {
      "text/plain": [
       "0.9329228606332076"
      ]
     },
     "execution_count": 58,
     "metadata": {},
     "output_type": "execute_result"
    }
   ],
   "source": [
    "from sklearn.svm import SVR\n",
    "svm_poly_reg = SVR(kernel=\"poly\", degree=2, C=100, epsilon=0.1)\n",
    "svm_poly_reg.fit(X_train, y_train)\n",
    "pred3 = svm_poly_reg.predict(X_test)\n",
    "svm_poly_reg_mse = mean_squared_error(y_test, pred3)\n",
    "svm_poly_reg_rmse = np.sqrt(svm_poly_reg_mse)\n",
    "svm_poly_reg_rmse"
   ]
  },
  {
   "cell_type": "code",
   "execution_count": 59,
   "metadata": {},
   "outputs": [
    {
     "data": {
      "text/plain": [
       "0.7726141075591904"
      ]
     },
     "execution_count": 59,
     "metadata": {},
     "output_type": "execute_result"
    }
   ],
   "source": [
    "from sklearn import svm\n",
    "SVRReg = svm.SVR(kernel='linear', gamma='auto')\n",
    "SVRReg.fit(X_train, y_train)\n",
    "pred4= SVRReg.predict(X_test)\n",
    "SVRReg_mse = mean_squared_error(y_test, pred4)\n",
    "SVRReg_rmse = np.sqrt(SVRReg_mse)\n",
    "SVRReg_rmse"
   ]
  },
  {
   "cell_type": "code",
   "execution_count": 64,
   "metadata": {},
   "outputs": [
    {
     "data": {
      "text/plain": [
       "0.931961024588127"
      ]
     },
     "execution_count": 64,
     "metadata": {},
     "output_type": "execute_result"
    }
   ],
   "source": [
    "from sklearn.ensemble import RandomForestRegressor\n",
    "Ranfor = RandomForestRegressor()\n",
    "Ranfor.fit(X_train, y_train)\n",
    "pred5 = Ranfor.predict(X_test)\n",
    "Ran_mse = mean_squared_error(y_test, pred5)\n",
    "Ran_rmse = np.sqrt(Ran_mse)\n",
    "Ran_rmse"
   ]
  },
  {
   "cell_type": "markdown",
   "metadata": {},
   "source": [
    "# Working with the best Model"
   ]
  },
  {
   "cell_type": "code",
   "execution_count": 18,
   "metadata": {},
   "outputs": [
    {
     "data": {
      "text/plain": [
       "array([2.64287396, 2.20812642, 2.37334796, 2.28438892, 2.01703039,\n",
       "       3.30060425, 2.44733953, 2.03795837, 2.30341303, 2.47726194,\n",
       "       2.50925923, 3.16640572, 2.01503175, 2.15894193, 2.49712089,\n",
       "       2.47053627, 2.2886585 , 2.46384437, 1.857997  , 3.09666847,\n",
       "       2.24030014, 1.81841197, 1.51823655, 3.48790068, 2.58772895,\n",
       "       2.94631036, 3.2620926 , 2.25602458, 2.9543485 , 1.7720528 ,\n",
       "       2.34102447, 2.04301433, 1.99681527, 2.18140891, 3.01529064,\n",
       "       3.33172693, 2.3085572 , 4.10048897, 3.53084692, 2.86027632,\n",
       "       1.99742249, 3.53696754, 2.02796844, 2.15894193, 2.63919907,\n",
       "       2.34119928, 2.02895143, 3.03736172, 2.98677709, 2.06057295,\n",
       "       2.10728228, 2.51789911, 2.69165545, 3.04356676, 3.01782297,\n",
       "       2.61759634, 2.70193183, 2.43795955, 3.3480771 , 2.11678262,\n",
       "       2.16859421, 3.35136151, 3.06090154, 2.0544545 , 2.18990994,\n",
       "       2.54354541, 1.97944019, 4.17989539, 2.53619129, 1.93168306,\n",
       "       2.84460034, 3.11761769, 2.11400795, 1.85771654])"
      ]
     },
     "execution_count": 18,
     "metadata": {},
     "output_type": "execute_result"
    }
   ],
   "source": [
    "from sklearn.linear_model import LinearRegression\n",
    "linreg = LinearRegression()\n",
    "linreg.fit(X_train, y_train)\n",
    "y_pred = linreg.predict(X_test)\n",
    "y_pred"
   ]
  },
  {
   "cell_type": "code",
   "execution_count": 66,
   "metadata": {},
   "outputs": [
    {
     "data": {
      "text/plain": [
       "array([3.8, 2.2, 2. , 2. , 2.8, 2.8, 5. , 2. , 2. , 2. , 1.8, 2.6, 3.2,\n",
       "       2.4, 1.8, 2. , 2.4, 2. , 2. , 2. , 4.2, 2.2, 2.8, 2.6, 2.4, 2.4,\n",
       "       2. , 2. , 2.2, 2.2, 3.4, 4.2, 2. , 3.2, 3.6, 2.4, 2.6, 4.2, 4.2,\n",
       "       2.6, 2.8, 2.4, 3.4, 2.2, 1.8, 2. , 1.8, 2. , 2.2, 3.8, 2. , 2.4,\n",
       "       3.4, 2.2, 2.4, 2. , 2. , 2. , 2.4, 4.6, 2. , 3. , 2.6, 1.8, 2.4,\n",
       "       2.8, 2.8, 3.4, 4. , 3.4, 2. , 2.8, 3.4, 2.6])"
      ]
     },
     "execution_count": 66,
     "metadata": {},
     "output_type": "execute_result"
    }
   ],
   "source": [
    "from sklearn.neighbors import KNeighborsRegressor\n",
    "Knnreg = KNeighborsRegressor()\n",
    "Knnreg.fit(X_train, y_train)\n",
    "pred_1 = Knnreg.predict(X_test)\n",
    "pred_1"
   ]
  },
  {
   "cell_type": "code",
   "execution_count": 23,
   "metadata": {},
   "outputs": [
    {
     "data": {
      "text/plain": [
       "array([4., 2., 3., 2., 2., 4., 2., 2., 2., 2., 3., 5., 2., 2., 2., 2., 2.,\n",
       "       2., 2., 2., 2., 2., 2., 2., 2., 3., 2., 2., 2., 2., 2., 2., 3., 2.,\n",
       "       4., 5., 2., 5., 2., 2., 3., 2., 2., 2., 4., 2., 2., 4., 4., 2., 2.,\n",
       "       2., 3., 4., 4., 2., 2., 3., 2., 2., 2., 3., 4., 2., 2., 4., 2., 3.,\n",
       "       2., 2., 4., 4., 2., 2.])"
      ]
     },
     "execution_count": 23,
     "metadata": {},
     "output_type": "execute_result"
    }
   ],
   "source": [
    "from sklearn import svm\n",
    "SVRReg = svm.SVR(kernel='linear', gamma='auto')\n",
    "SVRReg.fit(X_train, y_train)\n",
    "pred4= SVRReg.predict(X_test)"
   ]
  },
  {
   "cell_type": "code",
   "execution_count": 48,
   "metadata": {},
   "outputs": [
    {
     "data": {
      "text/plain": [
       "['total_bill', 'tip', 'sex', 'smoker', 'day', 'time', 'size']"
      ]
     },
     "execution_count": 48,
     "metadata": {},
     "output_type": "execute_result"
    }
   ],
   "source": [
    "list(Tips.keys())"
   ]
  },
  {
   "cell_type": "markdown",
   "metadata": {},
   "source": [
    "# Grid Search"
   ]
  },
  {
   "cell_type": "code",
   "execution_count": 126,
   "metadata": {},
   "outputs": [
    {
     "data": {
      "text/plain": [
       "{'n_neighbors': 18}"
      ]
     },
     "execution_count": 126,
     "metadata": {},
     "output_type": "execute_result"
    }
   ],
   "source": [
    "# KNN Rs\n",
    "from sklearn.neighbors import KNeighborsRegressor\n",
    "knnReg = KNeighborsRegressor()\n",
    "param_dist = {'n_neighbors': list(range(1,30,1))}\n",
    "from sklearn.model_selection import GridSearchCV\n",
    "Gs = GridSearchCV(knnReg,param_dist,cv=10,scoring='neg_mean_squared_error')\n",
    "Gs.fit(X_train, y_train)\n",
    "Gs.best_params_"
   ]
  },
  {
   "cell_type": "code",
   "execution_count": 128,
   "metadata": {},
   "outputs": [
    {
     "data": {
      "text/plain": [
       "KNeighborsRegressor(n_neighbors=18)"
      ]
     },
     "execution_count": 128,
     "metadata": {},
     "output_type": "execute_result"
    }
   ],
   "source": [
    "Gs.best_estimator_"
   ]
  },
  {
   "cell_type": "code",
   "execution_count": 129,
   "metadata": {},
   "outputs": [
    {
     "name": "stdout",
     "output_type": "stream",
     "text": [
      "1.0873605387250682 {'n_neighbors': 1}\n",
      "0.8977095036486895 {'n_neighbors': 2}\n",
      "0.8343131494664033 {'n_neighbors': 3}\n",
      "0.8080477563056457 {'n_neighbors': 4}\n",
      "0.7844068572157301 {'n_neighbors': 5}\n",
      "0.7782794833787962 {'n_neighbors': 6}\n",
      "0.7757581583767683 {'n_neighbors': 7}\n",
      "0.7759600315662111 {'n_neighbors': 8}\n",
      "0.7722022379508467 {'n_neighbors': 9}\n",
      "0.7638139594861318 {'n_neighbors': 10}\n",
      "0.7602164315830124 {'n_neighbors': 11}\n",
      "0.7607078746721604 {'n_neighbors': 12}\n",
      "0.7527649463096837 {'n_neighbors': 13}\n",
      "0.7498299126863264 {'n_neighbors': 14}\n",
      "0.7471951910945167 {'n_neighbors': 15}\n",
      "0.7428272204300033 {'n_neighbors': 16}\n",
      "0.73697385990356 {'n_neighbors': 17}\n",
      "0.7355482494750002 {'n_neighbors': 18}\n",
      "0.7385539601774924 {'n_neighbors': 19}\n",
      "0.7398728030586625 {'n_neighbors': 20}\n",
      "0.7410935756536755 {'n_neighbors': 21}\n",
      "0.7406195096963937 {'n_neighbors': 22}\n",
      "0.7366892136053407 {'n_neighbors': 23}\n",
      "0.7384527743870964 {'n_neighbors': 24}\n",
      "0.7414199413367332 {'n_neighbors': 25}\n",
      "0.7452950228436593 {'n_neighbors': 26}\n",
      "0.7466323435068505 {'n_neighbors': 27}\n",
      "0.7504850372368835 {'n_neighbors': 28}\n",
      "0.7529151106735302 {'n_neighbors': 29}\n"
     ]
    }
   ],
   "source": [
    "cvres = Gs.cv_results_\n",
    "for mean_score, params in zip(cvres[\"mean_test_score\"], cvres[\"params\"]):\n",
    "    print(np.sqrt(-mean_score), params)"
   ]
  },
  {
   "cell_type": "code",
   "execution_count": 131,
   "metadata": {},
   "outputs": [
    {
     "data": {
      "text/plain": [
       "{'n_jobs': 1}"
      ]
     },
     "execution_count": 131,
     "metadata": {},
     "output_type": "execute_result"
    }
   ],
   "source": [
    "# ls Rs\n",
    "from sklearn.linear_model import LinearRegression\n",
    "linreg = LinearRegression()\n",
    "param_dist = {'n_jobs': list(range(1,40,1))}\n",
    "from sklearn.model_selection import GridSearchCV\n",
    "Gs = GridSearchCV(linreg,param_dist,cv=10,scoring='neg_mean_squared_error')\n",
    "Gs.fit(X_train, y_train)\n",
    "Gs.best_params_"
   ]
  },
  {
   "cell_type": "code",
   "execution_count": 134,
   "metadata": {},
   "outputs": [
    {
     "data": {
      "text/plain": [
       "LinearRegression(n_jobs=1)"
      ]
     },
     "execution_count": 134,
     "metadata": {},
     "output_type": "execute_result"
    }
   ],
   "source": [
    "Gs.best_estimator_"
   ]
  },
  {
   "cell_type": "code",
   "execution_count": 99,
   "metadata": {},
   "outputs": [
    {
     "name": "stdout",
     "output_type": "stream",
     "text": [
      "0.7603544971833752 {'n_jobs': 24}\n",
      "0.7603544971833752 {'n_jobs': 22}\n",
      "0.7603544971833752 {'n_jobs': 6}\n",
      "0.7603544971833752 {'n_jobs': 38}\n",
      "0.7603544971833752 {'n_jobs': 35}\n",
      "0.7603544971833752 {'n_jobs': 2}\n",
      "0.7603544971833752 {'n_jobs': 17}\n",
      "0.7603544971833752 {'n_jobs': 21}\n",
      "0.7603544971833752 {'n_jobs': 18}\n",
      "0.7603544971833752 {'n_jobs': 16}\n",
      "0.7603544971833752 {'n_jobs': 19}\n",
      "0.7603544971833752 {'n_jobs': 37}\n",
      "0.7603544971833752 {'n_jobs': 26}\n",
      "0.7603544971833752 {'n_jobs': 23}\n",
      "0.7603544971833752 {'n_jobs': 36}\n",
      "0.7603544971833752 {'n_jobs': 15}\n",
      "0.7603544971833752 {'n_jobs': 32}\n",
      "0.7603544971833752 {'n_jobs': 30}\n",
      "0.7603544971833752 {'n_jobs': 20}\n",
      "0.7603544971833752 {'n_jobs': 10}\n",
      "0.7603544971833752 {'n_jobs': 7}\n",
      "0.7603544971833752 {'n_jobs': 13}\n",
      "0.7603544971833752 {'n_jobs': 8}\n",
      "0.7603544971833752 {'n_jobs': 14}\n",
      "0.7603544971833752 {'n_jobs': 39}\n",
      "0.7603544971833752 {'n_jobs': 11}\n",
      "0.7603544971833752 {'n_jobs': 28}\n",
      "0.7603544971833752 {'n_jobs': 25}\n",
      "0.7603544971833752 {'n_jobs': 27}\n"
     ]
    }
   ],
   "source": [
    "cvres = Gs.cv_results_\n",
    "for mean_score, params in zip(cvres[\"mean_test_score\"], cvres[\"params\"]):\n",
    "    print(np.sqrt(-mean_score), params)"
   ]
  },
  {
   "cell_type": "markdown",
   "metadata": {},
   "source": [
    "# Evaluation on the Test Set"
   ]
  },
  {
   "cell_type": "code",
   "execution_count": 133,
   "metadata": {},
   "outputs": [
    {
     "data": {
      "text/plain": [
       "0.8017800100512927"
      ]
     },
     "execution_count": 133,
     "metadata": {},
     "output_type": "execute_result"
    }
   ],
   "source": [
    "from sklearn.neighbors import KNeighborsRegressor\n",
    "Knnreg = KNeighborsRegressor(n_neighbors= 18)\n",
    "Knnreg.fit(X_train, y_train)\n",
    "pred_1 = Knnreg.predict(X_test)\n",
    "Knnreg_mse = mean_squared_error(y_test, pred_1)\n",
    "Knnreg_rmse = np.sqrt(Knnreg_mse)\n",
    "Knnreg_rmse"
   ]
  },
  {
   "cell_type": "code",
   "execution_count": 135,
   "metadata": {},
   "outputs": [
    {
     "data": {
      "text/plain": [
       "0.8017800100512927"
      ]
     },
     "execution_count": 135,
     "metadata": {},
     "output_type": "execute_result"
    }
   ],
   "source": [
    "from sklearn.linear_model import LinearRegression\n",
    "linreg=LinearRegression(n_jobs=1)\n",
    "linreg.fit(X_train, y_train)\n",
    "pred2 = linreg.predict(X_test)\n",
    "linreg_mse = mean_squared_error(y_test, pred2)\n",
    "linreg_rmse = np.sqrt(Knnreg_mse)\n",
    "Knnreg_rmse"
   ]
  },
  {
   "cell_type": "code",
   "execution_count": null,
   "metadata": {},
   "outputs": [],
   "source": []
  }
 ],
 "metadata": {
  "kernelspec": {
   "display_name": "Python 3",
   "language": "python",
   "name": "python3"
  },
  "language_info": {
   "codemirror_mode": {
    "name": "ipython",
    "version": 3
   },
   "file_extension": ".py",
   "mimetype": "text/x-python",
   "name": "python",
   "nbconvert_exporter": "python",
   "pygments_lexer": "ipython3",
   "version": "3.7.3"
  }
 },
 "nbformat": 4,
 "nbformat_minor": 4
}
